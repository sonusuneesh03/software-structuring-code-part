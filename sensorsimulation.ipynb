{
 "cells": [
  {
   "cell_type": "code",
   "execution_count": null,
   "metadata": {},
   "outputs": [],
   "source": [
    "#This module will handle the generation of simulated COPD sensor data.\n",
    "\n",
    "\n",
    "import numpy as np\n",
    "import pandas as pd\n",
    "import time\n",
    "\n",
    "import os\n",
    "\n",
    "# # Print the current working directory\n",
    "# print(\"Current working directory:\", os.getcwd())\n",
    "# ## Function to generate simulated COPD sensor data\n",
    "\n",
    "# Ensure the directory exists\n",
    "folder_path = \"/Users/sonusuneesh/Desktop/Thadickal/software structring test 1\"\n",
    "if not os.path.exists(folder_path):\n",
    "    os.makedirs(folder_path)\n",
    "    print(f\"Created folder at: {folder_path}\")\n",
    "\n",
    "\n",
    "def generate_copd_sensor_data():\n",
    "    spo2 = np.random.normal(92,3) # Simulating SpO₂ (Normal range 95-100%, COPD < 90%)\n",
    "    heart_rate = np.random.normal(70,10) # Simulating heart rate (Normal range 60-100 bpm, COPD < 60%)\n",
    "    breathing_rate = np.random.normal(16,2) # Simulating breathing rate (Normal range 12-20 bpm, COPD < 12%)\n",
    "    temperature = np.random.normal(37.3,0.5) # Simulating temperature (Normal range 36.5-37.8°C, COPD < 36.5°C)\n",
    "    hrv = np.random.normal(40,100) # Simulating HRV (Normal 60-100ms)\n",
    "    resp_rate = np.random.randint(12,30) # Simulating Respiratory Rate\n",
    "    cohb = np.random.uniform(0.5,5.0) # Simulating Carboxyhemoglobin in %\n",
    "    paco2 = np.random.uniform(35,55) # Simulating CO₂ levels in blood (PaCO₂)\n",
    "    \n",
    "    return{\n",
    "        \"sp02\": round( spo2,2),\n",
    "        \"heart rate\": round(heart_rate,2),\n",
    "        \"breating rate\": round(breathing_rate,2),\n",
    "        \"temperature\": round(temperature,2),\n",
    "        \"hrv\": round(hrv,2),\n",
    "        \"resp rate\": resp_rate,\n",
    "        \"cohb\": round(cohb,2),\n",
    "        \"paco2\": round(paco2,2),\n",
    "        \"timestamp\": pd.Timestamp.now()\n",
    "        \n",
    "    }\n",
    "    \n",
    "    #run the simulation and store the data \n",
    "    \n",
    "data_logger = []\n",
    "print(\"Generating copd sensor sample data ...\\n\")\n",
    "while True:\n",
    "        sensor_data = generate_copd_sensor_data()\n",
    "        data_logger.append(sensor_data)\n",
    "        print(sensor_data)\n",
    "        time.sleep(2)  # simulate data collection interval\n",
    "        \n",
    "        #save data to cv every 10 readings\n",
    "if len(data_logger) % 10 == 0:\n",
    "        df = pd.DataFrame(data_logger)\n",
    "        print(df.head())\n",
    "        print(\"Generating COPD sensor data...\")  # Ensure the loop is starting\n",
    "        file_path = \"/Users/sonusuneesh/Desktop/Thadickal/software structring test 1/copd_sensor_data.csv\"\n",
    "        df.to_csv(file_path, index=False)\n",
    "        print(f\"\\nData saved to {file_path} \\n\")\n",
    "  \n",
    "\n",
    "        \n",
    "   \n",
    "  # by deep seek to modfy   \n",
    "# try:\n",
    "#     for i in range(20):  # Run for 20 iterations instead of an infinite loop\n",
    "#         sensor_data = generate_copd_sensor_data()\n",
    "#         data_log.append(sensor_data)\n",
    "#         print(sensor_data)\n",
    "#         time.sleep(2)  # Simulate data collection interval\n",
    "\n",
    "#         # Save data to CSV every 10 readings\n",
    "#         if len(data_log) % 10 == 0:\n",
    "#             df = pd.DataFrame(data_log)\n",
    "#             df.to_csv(\"copd_sensor_data.csv\", index=False)  # Fixed typo: tp_csv -> to_csv\n",
    "#             print(\"\\nData saved to copd_sensor_data.csv ✅\\n\")\n",
    "\n",
    "\n",
    "\n",
    "\n",
    "\n",
    "\n",
    "# Change the directory if needed\n",
    "# os.chdir(\"path_to_your_desired_folder\")  # Uncomment and replace the path if needed\n"
   ]
  },
  {
   "cell_type": "code",
   "execution_count": null,
   "metadata": {},
   "outputs": [
    {
     "data": {
      "text/plain": [
       "35\n"
      ]
     },
     "metadata": {},
     "output_type": "display_data"
    }
   ],
   "source": [
    "35\n"
   ]
  },
  {
   "cell_type": "code",
   "execution_count": null,
   "metadata": {},
   "outputs": [],
   "source": []
  },
  {
   "cell_type": "code",
   "execution_count": null,
   "metadata": {},
   "outputs": [],
   "source": []
  },
  {
   "cell_type": "code",
   "execution_count": null,
   "metadata": {},
   "outputs": [],
   "source": []
  },
  {
   "cell_type": "code",
   "execution_count": null,
   "metadata": {},
   "outputs": [],
   "source": []
  },
  {
   "cell_type": "code",
   "execution_count": null,
   "metadata": {},
   "outputs": [],
   "source": []
  },
  {
   "cell_type": "code",
   "execution_count": null,
   "metadata": {},
   "outputs": [
    {
     "data": {
      "text/plain": [
       "(10, 20, 30)\n"
      ]
     },
     "metadata": {},
     "output_type": "display_data"
    }
   ],
   "source": [
    "10, 20,30\n",
    "\n"
   ]
  },
  {
   "cell_type": "code",
   "execution_count": null,
   "metadata": {},
   "outputs": [],
   "source": []
  },
  {
   "cell_type": "code",
   "execution_count": null,
   "metadata": {},
   "outputs": [
    {
     "data": {
      "text/plain": [
       "20\n"
      ]
     },
     "metadata": {},
     "output_type": "display_data"
    }
   ],
   "source": [
    "20\n"
   ]
  },
  {
   "cell_type": "code",
   "execution_count": null,
   "metadata": {},
   "outputs": [
    {
     "data": {
      "text/plain": [
       "70\n"
      ]
     },
     "metadata": {},
     "output_type": "display_data"
    }
   ],
   "source": [
    "70"
   ]
  },
  {
   "cell_type": "code",
   "execution_count": null,
   "metadata": {},
   "outputs": [
    {
     "data": {
      "text/plain": [
       "30\n"
      ]
     },
     "metadata": {},
     "output_type": "display_data"
    }
   ],
   "source": [
    "30\n"
   ]
  },
  {
   "cell_type": "markdown",
   "metadata": {},
   "source": [
    "##### "
   ]
  },
  {
   "cell_type": "code",
   "execution_count": null,
   "metadata": {},
   "outputs": [
    {
     "data": {
      "text/plain": [
       "95\n"
      ]
     },
     "metadata": {},
     "output_type": "display_data"
    }
   ],
   "source": [
    "95"
   ]
  },
  {
   "cell_type": "code",
   "execution_count": null,
   "metadata": {},
   "outputs": [
    {
     "data": {
      "text/plain": [
       "60\n"
      ]
     },
     "metadata": {},
     "output_type": "display_data"
    }
   ],
   "source": [
    "60"
   ]
  },
  {
   "cell_type": "code",
   "execution_count": null,
   "metadata": {},
   "outputs": [
    {
     "data": {
      "text/plain": [
       "20\n"
      ]
     },
     "metadata": {},
     "output_type": "display_data"
    }
   ],
   "source": [
    "20"
   ]
  },
  {
   "cell_type": "code",
   "execution_count": null,
   "metadata": {},
   "outputs": [
    {
     "data": {
      "text/plain": [
       "36.5\n"
      ]
     },
     "metadata": {},
     "output_type": "display_data"
    }
   ],
   "source": [
    "36.5"
   ]
  },
  {
   "cell_type": "code",
   "execution_count": null,
   "metadata": {},
   "outputs": [
    {
     "data": {
      "text/plain": [
       "60\n"
      ]
     },
     "metadata": {},
     "output_type": "display_data"
    }
   ],
   "source": [
    "60"
   ]
  },
  {
   "cell_type": "code",
   "execution_count": null,
   "metadata": {},
   "outputs": [
    {
     "data": {
      "text/plain": [
       "12\n"
      ]
     },
     "metadata": {},
     "output_type": "display_data"
    }
   ],
   "source": [
    "12"
   ]
  },
  {
   "cell_type": "code",
   "execution_count": null,
   "metadata": {},
   "outputs": [
    {
     "data": {
      "text/plain": [
       "0.7\n"
      ]
     },
     "metadata": {},
     "output_type": "display_data"
    }
   ],
   "source": [
    "0.7"
   ]
  },
  {
   "cell_type": "code",
   "execution_count": null,
   "metadata": {},
   "outputs": [
    {
     "data": {
      "text/plain": [
       "35\n"
      ]
     },
     "metadata": {},
     "output_type": "display_data"
    }
   ],
   "source": [
    "35"
   ]
  },
  {
   "cell_type": "code",
   "execution_count": null,
   "metadata": {},
   "outputs": [],
   "source": []
  },
  {
   "cell_type": "code",
   "execution_count": null,
   "metadata": {},
   "outputs": [],
   "source": []
  },
  {
   "cell_type": "code",
   "execution_count": null,
   "metadata": {},
   "outputs": [],
   "source": []
  }
 ],
 "metadata": {
  "kernelspec": {
   "display_name": "Python 3 (ipykernel)",
   "language": "python",
   "name": "python3"
  },
  "language_info": {
   "codemirror_mode": {
    "name": "ipython",
    "version": 3
   },
   "file_extension": ".py",
   "mimetype": "text/x-python",
   "name": "python",
   "nbconvert_exporter": "python",
   "pygments_lexer": "ipython3",
   "version": "3.9.6"
  }
 },
 "nbformat": 4,
 "nbformat_minor": 4
}
